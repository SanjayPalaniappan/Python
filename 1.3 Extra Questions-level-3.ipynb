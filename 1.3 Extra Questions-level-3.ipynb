{
 "cells": [
  {
   "cell_type": "code",
   "execution_count": 3,
   "metadata": {},
   "outputs": [
    {
     "name": "stdout",
     "output_type": "stream",
     "text": [
      "value: 10\n",
      "Correct\n"
     ]
    }
   ],
   "source": [
    "for i in range(1,11):\n",
    "    if(i==10):\n",
    "        print(\"value:\",i)\n",
    "        print(\"Correct\")"
   ]
  },
  {
   "cell_type": "code",
   "execution_count": 7,
   "metadata": {},
   "outputs": [
    {
     "name": "stdout",
     "output_type": "stream",
     "text": [
      "Enter the password:HOPE@123\n",
      "Your password is correct\n"
     ]
    }
   ],
   "source": [
    "passwd=input(\"Enter the password:\")\n",
    "if(passwd=='HOPE@123'):\n",
    "    print(\"Your password is correct\")\n",
    "else:\n",
    "    print(\"Entered password is Incorrect\")"
   ]
  },
  {
   "cell_type": "code",
   "execution_count": 10,
   "metadata": {},
   "outputs": [
    {
     "name": "stdout",
     "output_type": "stream",
     "text": [
      "Age: 66\n",
      "Senior Citizen\n"
     ]
    }
   ],
   "source": [
    "age=int(input(\"Age: \"))\n",
    "if(age<18):\n",
    "    print(\"Children\")\n",
    "elif(age>=18 and age<35):\n",
    "    print(\"Adult\")\n",
    "elif(age>=35 and age<=59):\n",
    "    print(\"Citizen\")\n",
    "else:\n",
    "    print(\"Senior Citizen\")"
   ]
  },
  {
   "cell_type": "code",
   "execution_count": 21,
   "metadata": {},
   "outputs": [
    {
     "name": "stdout",
     "output_type": "stream",
     "text": [
      "Enter any number:-87\n",
      "Entered No is negative\n"
     ]
    }
   ],
   "source": [
    "number=int(input(\"Enter any number:\"))\n",
    "if(number>0):\n",
    "    print(\"Entered No is positive\")\n",
    "elif(number<0):\n",
    "    print(\"Entered No is negative\")\n",
    "else:\n",
    "    print(\"Entered No is zero\")"
   ]
  },
  {
   "cell_type": "code",
   "execution_count": 24,
   "metadata": {},
   "outputs": [
    {
     "name": "stdout",
     "output_type": "stream",
     "text": [
      "Enter a number to check:22\n",
      "Entered number is not divisible by 5\n"
     ]
    }
   ],
   "source": [
    "num=int(input(\"Enter a number to check:\"))\n",
    "if(num%5==0):\n",
    "    print(\"Entered number is divisible by 5\")\n",
    "else:\n",
    "    print(\"Entered number is not divisible by 5\")"
   ]
  },
  {
   "cell_type": "code",
   "execution_count": null,
   "metadata": {},
   "outputs": [],
   "source": []
  }
 ],
 "metadata": {
  "kernelspec": {
   "display_name": "Python 3",
   "language": "python",
   "name": "python3"
  },
  "language_info": {
   "codemirror_mode": {
    "name": "ipython",
    "version": 3
   },
   "file_extension": ".py",
   "mimetype": "text/x-python",
   "name": "python",
   "nbconvert_exporter": "python",
   "pygments_lexer": "ipython3",
   "version": "3.7.4"
  }
 },
 "nbformat": 4,
 "nbformat_minor": 2
}
