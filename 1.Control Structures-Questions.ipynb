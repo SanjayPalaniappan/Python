{
 "cells": [
  {
   "cell_type": "code",
   "execution_count": 1,
   "metadata": {},
   "outputs": [],
   "source": [
    "#Question 1"
   ]
  },
  {
   "cell_type": "code",
   "execution_count": 2,
   "metadata": {},
   "outputs": [
    {
     "name": "stdout",
     "output_type": "stream",
     "text": [
      "Welcome to Assignment-1\n"
     ]
    }
   ],
   "source": [
    "print(\"Welcome to Assignment-1\")"
   ]
  },
  {
   "cell_type": "code",
   "execution_count": 5,
   "metadata": {},
   "outputs": [
    {
     "name": "stdout",
     "output_type": "stream",
     "text": [
      "Num1= 10\n",
      "Num2= 30\n",
      "Add= 40\n"
     ]
    }
   ],
   "source": [
    "Num1=10\n",
    "Num2=30\n",
    "Add=Num1+Num2\n",
    "print(\"Num1=\",Num1)\n",
    "print(\"Num2=\",Num2)\n",
    "print(\"Add=\",Add)"
   ]
  },
  {
   "cell_type": "code",
   "execution_count": 12,
   "metadata": {},
   "outputs": [
    {
     "name": "stdout",
     "output_type": "stream",
     "text": [
      "Enter Weight:59\n",
      "Enter Height1.68\n",
      "Calculated BMI Index: 20.904195011337873\n",
      "Normalweight\n"
     ]
    }
   ],
   "source": [
    "weight=int(input(\"Enter Weight:\"))\n",
    "height=float(input(\"Enter Height\"))\n",
    "bmiIndex = weight/float(height*height)\n",
    "print(\"Calculated BMI Index:\",bmiIndex)\n",
    "if(bmiIndex<18.9):\n",
    "    print(\"Underweight\")\n",
    "elif(bmiIndex>=18.9 and bmiIndex<=24.9):\n",
    "    print(\"Normalweight\")\n",
    "elif(bmiIndex>=25 and bmiIndex<=29.9):\n",
    "    print(\"Overweight\")\n",
    "elif(bmiIndex>=30.0 and bmiIndex<=34.9):\n",
    "    print(\"Very Overweight\")\n",
    "else:\n",
    "    print(\"Obesity\")"
   ]
  },
  {
   "cell_type": "code",
   "execution_count": null,
   "metadata": {},
   "outputs": [],
   "source": []
  }
 ],
 "metadata": {
  "kernelspec": {
   "display_name": "Python 3",
   "language": "python",
   "name": "python3"
  },
  "language_info": {
   "codemirror_mode": {
    "name": "ipython",
    "version": 3
   },
   "file_extension": ".py",
   "mimetype": "text/x-python",
   "name": "python",
   "nbconvert_exporter": "python",
   "pygments_lexer": "ipython3",
   "version": "3.7.4"
  }
 },
 "nbformat": 4,
 "nbformat_minor": 2
}
