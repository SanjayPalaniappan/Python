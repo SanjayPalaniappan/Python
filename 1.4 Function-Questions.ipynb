{
 "cells": [
  {
   "cell_type": "code",
   "execution_count": null,
   "metadata": {},
   "outputs": [],
   "source": [
    "# A function that list out the items in the list"
   ]
  },
  {
   "cell_type": "code",
   "execution_count": null,
   "metadata": {},
   "outputs": [],
   "source": [
    "# Approach 1"
   ]
  },
  {
   "cell_type": "code",
   "execution_count": 12,
   "metadata": {},
   "outputs": [],
   "source": [
    "def subFieldsList():\n",
    "    subFields=[\"Machine Learning\",\"Neural Networks\",\"Vision\",\"Robotics\",\"Speech Processing\",\"Natural Language Processing\"]\n",
    "    print(\"Sub-fields in AI are:\")\n",
    "    for field in subFields:\n",
    "        print(field)"
   ]
  },
  {
   "cell_type": "code",
   "execution_count": 14,
   "metadata": {},
   "outputs": [
    {
     "name": "stdout",
     "output_type": "stream",
     "text": [
      "Sub-fields in AI are:\n",
      "Machine Learning\n",
      "Neural Networks\n",
      "Vision\n",
      "Robotics\n",
      "Speech Processing\n",
      "Natural Language Processing\n"
     ]
    }
   ],
   "source": [
    "printSubFields=subFieldsList()"
   ]
  },
  {
   "cell_type": "code",
   "execution_count": null,
   "metadata": {},
   "outputs": [],
   "source": [
    "# Approach 2"
   ]
  },
  {
   "cell_type": "code",
   "execution_count": 8,
   "metadata": {},
   "outputs": [],
   "source": [
    "def SubFields():\n",
    "    message=print(\"Sub-fields in AI are:\"\"\\n\"\n",
    "                  \"Machine Learning\"\"\\n\"\n",
    "                  \"Neural Networks\"\"\\n\"\n",
    "                  \"Vision\"\"\\n\"\n",
    "                  \"Robotics\"\"\\n\"\n",
    "                  \"Speech Processing\"\"\\n\"\n",
    "                  \"Natural Language Processing\"\"\\n\")\n",
    "    return message              "
   ]
  },
  {
   "cell_type": "code",
   "execution_count": 9,
   "metadata": {},
   "outputs": [
    {
     "name": "stdout",
     "output_type": "stream",
     "text": [
      "Sub-fields in AI are:\n",
      "Machine Learning\n",
      "Neural Networks\n",
      "Vision\n",
      "Robotics\n",
      "Speech Processing\n",
      "Natural Language Processing\n",
      "\n"
     ]
    }
   ],
   "source": [
    "printSub = Subfields()"
   ]
  },
  {
   "cell_type": "code",
   "execution_count": null,
   "metadata": {},
   "outputs": [],
   "source": [
    "# A function that checks whether the given number is Odd or Even"
   ]
  },
  {
   "cell_type": "code",
   "execution_count": 1,
   "metadata": {},
   "outputs": [],
   "source": [
    "def oddEven():\n",
    "    num=int(input(\"Enter the number:\"))\n",
    "    if(num%2==1):\n",
    "        print(\"Entered number is Odd\")\n",
    "        message=\"Odd number\"\n",
    "    else:\n",
    "        print(\"Entered number is Even\")\n",
    "        message=\"Even number\"\n",
    "        return message"
   ]
  },
  {
   "cell_type": "code",
   "execution_count": 2,
   "metadata": {},
   "outputs": [
    {
     "name": "stdout",
     "output_type": "stream",
     "text": [
      "Enter the number:67\n",
      "Entered number is Odd\n"
     ]
    }
   ],
   "source": [
    "msg=oddEven()"
   ]
  },
  {
   "cell_type": "code",
   "execution_count": 15,
   "metadata": {},
   "outputs": [],
   "source": [
    "# A function that tells elegibility of marriage for male and female according to their age limit like 21 for male and 18 for female"
   ]
  },
  {
   "cell_type": "code",
   "execution_count": 27,
   "metadata": {},
   "outputs": [],
   "source": [
    "def Eligible():\n",
    "    gender=input(\"Your Gender:\")\n",
    "    age=int(input(\"Your Age:\"))\n",
    "    EligibleForMarriage=\"ELIGIBLE\"\n",
    "    NotEligibleForMarriage=\"NOT ELIGIBLE\"\n",
    "    invalidAgeEntered=\"Invalid Age entered\"\n",
    "    if(gender=='Male'):\n",
    "        if(age>=21):\n",
    "            print(EligibleForMarriage)\n",
    "        elif(age<21):\n",
    "            print(NotEligibleForMarriage)\n",
    "        else:\n",
    "            print(invalidAgeEntered)\n",
    "    elif(gender=='Female'):\n",
    "        if(age>=18):\n",
    "            print(EligibleForMarriage)\n",
    "        elif(age<18):\n",
    "            print(NotEligibleForMarriage)\n",
    "        else:\n",
    "            print(invalidAgeEntered)\n",
    "    else:\n",
    "        print(\"Invalid gender entered\")"
   ]
  },
  {
   "cell_type": "code",
   "execution_count": 28,
   "metadata": {},
   "outputs": [
    {
     "name": "stdout",
     "output_type": "stream",
     "text": [
      "Your Gender:Male\n",
      "Your Age:16\n",
      "NOT ELIGIBLE\n"
     ]
    }
   ],
   "source": [
    "eligibility=Eligible()"
   ]
  },
  {
   "cell_type": "code",
   "execution_count": null,
   "metadata": {},
   "outputs": [],
   "source": [
    "# calculate the percentage of your 10th mark"
   ]
  },
  {
   "cell_type": "code",
   "execution_count": 2,
   "metadata": {},
   "outputs": [],
   "source": [
    "def Percentage():\n",
    "    Subject1=int(input(\"Enter subject 1 marks:\"))\n",
    "    Subject2=int(input(\"Enter subject 2 marks:\"))\n",
    "    Subject3=int(input(\"Enter subject 3 marks:\"))\n",
    "    Subject4=int(input(\"Enter subject 4 marks:\"))\n",
    "    Subject5=int(input(\"Enter subject 5 marks:\"))\n",
    "    total=Subject1+Subject2+Subject3+Subject4+Subject5\n",
    "    print(\"Total:\",total)\n",
    "    percentage=float(total/5)\n",
    "    print(\"Percentage:\",percentage)\n",
    "    roundOffPercent=round(percentage,14)"
   ]
  },
  {
   "cell_type": "code",
   "execution_count": 3,
   "metadata": {},
   "outputs": [
    {
     "name": "stdout",
     "output_type": "stream",
     "text": [
      "Enter subject 1 marks:98\n",
      "Enter subject 2 marks:87\n",
      "Enter subject 3 marks:95\n",
      "Enter subject 4 marks:95\n",
      "Enter subject 5 marks:93\n",
      "Total: 468\n",
      "Percentage: 93.6\n"
     ]
    }
   ],
   "source": [
    "findPercent=Percentage()"
   ]
  },
  {
   "cell_type": "code",
   "execution_count": null,
   "metadata": {},
   "outputs": [],
   "source": [
    "#print area and perimeter of triangle using class and functions"
   ]
  },
  {
   "cell_type": "code",
   "execution_count": 5,
   "metadata": {},
   "outputs": [],
   "source": [
    "def triangle():    \n",
    "    height=int(input(\"Height:\"))\n",
    "    breadth=int(input(\"Breadth:\"))\n",
    "    # Area formula: (Height*Breadth)/2\n",
    "    area = (height*breadth)/2\n",
    "    print(\"Area of Triangle:\", area)\n",
    "    height1=int(input(\"Height1:\"))\n",
    "    height2=int(input(\"Height2:\"))\n",
    "    Breadth=int(input(\"Breadth:\"))\n",
    "    # Perimeter formula: Height1+Height2+Breadth\n",
    "    perimeter=height1+height2+Breadth\n",
    "    print(\"Perimeter of Triangle:\", perimeter)"
   ]
  },
  {
   "cell_type": "code",
   "execution_count": 6,
   "metadata": {},
   "outputs": [
    {
     "name": "stdout",
     "output_type": "stream",
     "text": [
      "Height:23\n",
      "Breadth:12\n",
      "Area of Triangle: 138.0\n",
      "Height1:16\n",
      "Height2:43\n",
      "Breadth:32\n",
      "Perimeter of Triangle: 91\n"
     ]
    }
   ],
   "source": [
    "areaAndPeri=triangle()"
   ]
  },
  {
   "cell_type": "code",
   "execution_count": null,
   "metadata": {},
   "outputs": [],
   "source": []
  }
 ],
 "metadata": {
  "kernelspec": {
   "display_name": "Python 3",
   "language": "python",
   "name": "python3"
  },
  "language_info": {
   "codemirror_mode": {
    "name": "ipython",
    "version": 3
   },
   "file_extension": ".py",
   "mimetype": "text/x-python",
   "name": "python",
   "nbconvert_exporter": "python",
   "pygments_lexer": "ipython3",
   "version": "3.7.4"
  }
 },
 "nbformat": 4,
 "nbformat_minor": 2
}
